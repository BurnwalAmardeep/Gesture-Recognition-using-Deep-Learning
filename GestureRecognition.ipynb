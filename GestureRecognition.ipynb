{
 "cells": [
  {
   "cell_type": "markdown",
   "metadata": {},
   "source": [
    "# Gesture Recognition\n",
    "In this project, we are building a 3D Conv model that will be able to predict the 5 gestures correctly. Import the following libraries to get started."
   ]
  },
  {
   "cell_type": "code",
   "execution_count": 1,
   "metadata": {},
   "outputs": [],
   "source": [
    "import numpy as np\n",
    "import os\n",
    "from PIL import Image\n",
    "import datetime\n",
    "import os\n",
    "import matplotlib.pyplot as plt\n",
    "import warnings  \n",
    "warnings.filterwarnings('ignore')"
   ]
  },
  {
   "cell_type": "markdown",
   "metadata": {},
   "source": [
    "We set the random seed so that the results don't vary drastically."
   ]
  },
  {
   "cell_type": "code",
   "execution_count": 2,
   "metadata": {},
   "outputs": [
    {
     "name": "stderr",
     "output_type": "stream",
     "text": [
      "Using TensorFlow backend.\n"
     ]
    }
   ],
   "source": [
    "np.random.seed(30)\n",
    "import random as rn\n",
    "rn.seed(30)\n",
    "from keras import backend as K\n",
    "import tensorflow as tf\n",
    "tf.set_random_seed(30)\n"
   ]
  },
  {
   "cell_type": "markdown",
   "metadata": {},
   "source": [
    "In this block, we read the folder names for training and validation. We also set the `batch_size` here. Note that we set the batch size in such a way that we are able to use the GPU in full capacity. We keep increasing the batch size until the machine throws an error."
   ]
  },
  {
   "cell_type": "code",
   "execution_count": 3,
   "metadata": {},
   "outputs": [],
   "source": [
    "train_doc = np.random.permutation(open('./Project_data/train.csv').readlines())\n",
    "val_doc = np.random.permutation(open('./Project_data/val.csv').readlines())"
   ]
  },
  {
   "cell_type": "markdown",
   "metadata": {},
   "source": [
    "## Generator\n",
    "This is one of the most important part of the code. The overall structure of the generator has been given. In the generator, we are going to preprocess the images as we have images of 2 different dimensions as well as create a batch of video frames. We have to experiment with `img_idx`, `y`,`z` and normalization such that we get high accuracy."
   ]
  },
  {
   "cell_type": "code",
   "execution_count": 4,
   "metadata": {},
   "outputs": [
    {
     "data": {
      "text/plain": [
       "[0, 2, 4, 6, 8, 10, 12, 14, 16, 18, 20, 22, 24, 26, 28]"
      ]
     },
     "execution_count": 4,
     "metadata": {},
     "output_type": "execute_result"
    }
   ],
   "source": [
    "images=[i for i in range(0,30,2)]\n",
    "images"
   ]
  },
  {
   "cell_type": "code",
   "execution_count": 5,
   "metadata": {},
   "outputs": [],
   "source": [
    "img_width=220\n",
    "img_height=220\n",
    "def generator(source_path, folder_list, batch_size):\n",
    "    print( 'Source path = ', source_path, '; batch size =', batch_size)\n",
    "    img_idx = [2, 4, 6, 8, 10, 12, 14, 16, 18, 20, 22, 24, 26, 28,29]\n",
    "    while True:\n",
    "        t = np.random.permutation(folder_list)\n",
    "        num_batches = t.size//batch_size\n",
    "        for batch in range(num_batches): # we iterate over the number of batches\n",
    "            batch_data = np.zeros((batch_size,len(img_idx),img_width,img_height,3)) # x is the number of images you use for each video, (y,z) is the final size of the input images and 3 is the number of channels RGB\n",
    "            batch_labels = np.zeros((batch_size,5)) # batch_labels is the one hot representation of the output\n",
    "            for folder in range(batch_size): # iterate over the batch_size\n",
    "                imgs = os.listdir(source_path+'/'+ t[folder + (batch*batch_size)].split(';')[0]) # read all the images in the folder\n",
    "                for idx,item in enumerate(img_idx): #  Iterate iver the frames/images of a folder to read them in\n",
    "                    image = Image.open(source_path+'/'+ t[folder + (batch*batch_size)].strip().split(';')[0]+'/'+imgs[item])\n",
    "                    res_image=image.resize((img_width,img_height))\n",
    "                    res_image_arr=np.asarray(res_image)\n",
    "                    res_image_arr=res_image_arr/255\n",
    "                    batch_data[folder,idx,:,:,0] = res_image_arr[:,:,0]\n",
    "                    batch_data[folder,idx,:,:,1] = res_image_arr[:,:,1]\n",
    "                    batch_data[folder,idx,:,:,2] = res_image_arr[:,:,2]\n",
    "                    \n",
    "                batch_labels[folder, int(t[folder + (batch*batch_size)].strip().split(';')[2])] = 1\n",
    "            yield batch_data, batch_labels #you yield the batch_data and the batch_labels, remember what does yield do\n",
    "\n",
    "        \n",
    "        rem = len(t)%batch_size\n",
    "        for folder in range(rem): #iterate over remaining folders\n",
    "            imgs = os.listdir(source_path+'/'+ t[folder + (batch*batch_size)].split(';')[0]) # read all the images in the folder\n",
    "            for idx,item in enumerate(img_idx): #  Iterate iver the frames/images of a folder to read them in\n",
    "                image = Image.open(source_path+'/'+ t[folder + (batch*batch_size)].strip().split(';')[0]+'/'+imgs[item])\n",
    "                res_image=image.resize((img_width,img_height))\n",
    "                res_image_arr=np.asarray(res_image)\n",
    "                res_image_arr=res_image_arr/255\n",
    "                batch_data[folder,idx,:,:,0] = res_image_arr[:,:,0]\n",
    "                batch_data[folder,idx,:,:,1] = res_image_arr[:,:,1]\n",
    "                batch_data[folder,idx,:,:,2] = res_image_arr[:,:,2]            \n",
    "            batch_labels[folder, int(t[folder + (batch*batch_size)].strip().split(';')[2])] = 1\n",
    "        yield batch_data, batch_labels\n"
   ]
  },
  {
   "cell_type": "markdown",
   "metadata": {},
   "source": [
    "Note here that a video is represented above in the generator as (number of images, height, width, number of channels). Take this into consideration while creating the model architecture."
   ]
  },
  {
   "cell_type": "code",
   "execution_count": 6,
   "metadata": {},
   "outputs": [
    {
     "name": "stdout",
     "output_type": "stream",
     "text": [
      "# training sequences = 663\n",
      "# validation sequences = 100\n",
      "# epochs = 40\n"
     ]
    }
   ],
   "source": [
    "curr_dt_time = datetime.datetime.now()\n",
    "train_path = './Project_data/train'\n",
    "val_path = './Project_data/val'\n",
    "num_train_sequences = len(train_doc)\n",
    "print('# training sequences =', num_train_sequences)\n",
    "num_val_sequences = len(val_doc)\n",
    "print('# validation sequences =', num_val_sequences)\n",
    "num_epochs = 40\n",
    "print ('# epochs =', num_epochs)\n",
    "batch_size = 15"
   ]
  },
  {
   "cell_type": "markdown",
   "metadata": {},
   "source": [
    "## Model\n",
    "Here we make the model using different functionalities that Keras provides. Remember to use `Conv3D` and `MaxPooling3D` and not `Conv2D` and `Maxpooling2D` for a 3D convolution model. We would want to use `TimeDistributed` while building a Conv2D + RNN model. Also remember that the last layer is the softmax. Design the network in such a way that the model is able to give good accuracy on the least number of parameters so that it can fit in the memory of the webcam."
   ]
  },
  {
   "cell_type": "code",
   "execution_count": 7,
   "metadata": {},
   "outputs": [],
   "source": [
    "from keras.models import Sequential, Model\n",
    "from keras.layers import Dense, GRU, Flatten, TimeDistributed, Flatten, BatchNormalization, Activation,LSTM,BatchNormalization\n",
    "from keras.layers.convolutional import Conv3D, MaxPooling3D, Conv2D, MaxPooling2D, AveragePooling2D,AveragePooling3D\n",
    "from keras.callbacks import ModelCheckpoint, ReduceLROnPlateau\n",
    "from keras import optimizers\n",
    "from keras import *\n",
    "#####Conv3D\n",
    "model = Sequential()\n",
    "model.add(Conv3D(32, kernel_size=(3, 3, 3), activation='relu',input_shape=(len(images), img_width, img_height, 3)))\n",
    "model.add(MaxPooling3D(pool_size=(2, 2, 2)))\n",
    "model.add(Conv3D(64, kernel_size=(3, 3, 3), activation='relu'))\n",
    "model.add(MaxPooling3D(pool_size=(2, 2, 2)))\n",
    "model.add(Flatten())\n",
    "model.add(Dense(5, activation='softmax'))"
   ]
  },
  {
   "cell_type": "markdown",
   "metadata": {},
   "source": [
    "Now that we have written the model, the next step is to `compile` the model. When we print the `summary` of the model, we'll see the total number of parameters you have to train."
   ]
  },
  {
   "cell_type": "code",
   "execution_count": 8,
   "metadata": {
    "scrolled": true
   },
   "outputs": [
    {
     "name": "stdout",
     "output_type": "stream",
     "text": [
      "_________________________________________________________________\n",
      "Layer (type)                 Output Shape              Param #   \n",
      "=================================================================\n",
      "conv3d_1 (Conv3D)            (None, 13, 218, 218, 32)  2624      \n",
      "_________________________________________________________________\n",
      "max_pooling3d_1 (MaxPooling3 (None, 6, 109, 109, 32)   0         \n",
      "_________________________________________________________________\n",
      "conv3d_2 (Conv3D)            (None, 4, 107, 107, 64)   55360     \n",
      "_________________________________________________________________\n",
      "max_pooling3d_2 (MaxPooling3 (None, 2, 53, 53, 64)     0         \n",
      "_________________________________________________________________\n",
      "flatten_1 (Flatten)          (None, 359552)            0         \n",
      "_________________________________________________________________\n",
      "dense_1 (Dense)              (None, 5)                 1797765   \n",
      "=================================================================\n",
      "Total params: 1,855,749\n",
      "Trainable params: 1,855,749\n",
      "Non-trainable params: 0\n",
      "_________________________________________________________________\n",
      "None\n"
     ]
    }
   ],
   "source": [
    "optimiser=optimizers.Adam(lr=0.001)\n",
    "model.compile(optimizer=optimiser, loss='categorical_crossentropy', metrics=['categorical_accuracy'])\n",
    "print (model.summary())"
   ]
  },
  {
   "cell_type": "markdown",
   "metadata": {},
   "source": [
    "Let us create the `train_generator` and the `val_generator` which will be used in `.fit_generator`."
   ]
  },
  {
   "cell_type": "code",
   "execution_count": 9,
   "metadata": {},
   "outputs": [],
   "source": [
    "train_generator = generator(train_path, train_doc, batch_size)\n",
    "val_generator = generator(val_path, val_doc, batch_size)"
   ]
  },
  {
   "cell_type": "code",
   "execution_count": 10,
   "metadata": {},
   "outputs": [],
   "source": [
    "model_name = 'model_init' + '_' + str(curr_dt_time).replace(' ','').replace(':','_') + '/'\n",
    "    \n",
    "if not os.path.exists(model_name):\n",
    "    os.mkdir(model_name)\n",
    "        \n",
    "filepath = model_name + 'model-{epoch:05d}-{loss:.5f}-{categorical_accuracy:.5f}-{val_loss:.5f}-{val_categorical_accuracy:.5f}.h5'\n",
    "\n",
    "checkpoint = ModelCheckpoint(filepath, monitor='val_loss', verbose=1, save_best_only=True, save_weights_only=True, mode='auto', period=1)\n",
    "\n",
    "LR = ReduceLROnPlateau(monitor='val_loss', factor=0.25,\n",
    "                              patience=1, min_lr=0.0001) # the REducelronplateau code \n",
    "callbacks_list = [checkpoint, LR]"
   ]
  },
  {
   "cell_type": "markdown",
   "metadata": {},
   "source": [
    "The `steps_per_epoch` and `validation_steps` are used by `fit_generator` to decide the number of next() calls it need to make."
   ]
  },
  {
   "cell_type": "code",
   "execution_count": 11,
   "metadata": {},
   "outputs": [],
   "source": [
    "if (num_train_sequences%batch_size) == 0:\n",
    "    steps_per_epoch = int(num_train_sequences/batch_size)\n",
    "else:\n",
    "    steps_per_epoch = (num_train_sequences//batch_size) + 1\n",
    "\n",
    "if (num_val_sequences%batch_size) == 0:\n",
    "    validation_steps = int(num_val_sequences/batch_size)\n",
    "else:\n",
    "    validation_steps = (num_val_sequences//batch_size) + 1"
   ]
  },
  {
   "cell_type": "markdown",
   "metadata": {},
   "source": [
    "Let us now fit the model. This will start training the model and with the help of the checkpoints, we'll be able to save the model at the end of each epoch."
   ]
  },
  {
   "cell_type": "markdown",
   "metadata": {},
   "source": [
    "## Conv3D model"
   ]
  },
  {
   "cell_type": "code",
   "execution_count": 12,
   "metadata": {},
   "outputs": [
    {
     "name": "stdout",
     "output_type": "stream",
     "text": [
      "Source path =  ./Project_data/val ; batch size = 15\n",
      "Source path =  ./Project_data/train ; batch size = 15\n",
      "Epoch 1/40\n",
      "45/45 [==============================] - 58s 1s/step - loss: 2.3901 - categorical_accuracy: 0.2622 - val_loss: 1.3694 - val_categorical_accuracy: 0.3333\n",
      "\n",
      "Epoch 00001: val_loss improved from inf to 1.36940, saving model to model_init_2020-05-0416_54_17.420531/model-00001-2.39010-0.26222-1.36940-0.33333.h5\n",
      "Epoch 2/40\n",
      "45/45 [==============================] - 49s 1s/step - loss: 1.1899 - categorical_accuracy: 0.5022 - val_loss: 1.1113 - val_categorical_accuracy: 0.6095\n",
      "\n",
      "Epoch 00002: val_loss improved from 1.36940 to 1.11134, saving model to model_init_2020-05-0416_54_17.420531/model-00002-1.18994-0.50222-1.11134-0.60952.h5\n",
      "Epoch 3/40\n",
      "45/45 [==============================] - 49s 1s/step - loss: 0.8622 - categorical_accuracy: 0.7022 - val_loss: 1.1880 - val_categorical_accuracy: 0.5143\n",
      "\n",
      "Epoch 00003: val_loss did not improve from 1.11134\n",
      "Epoch 4/40\n",
      "45/45 [==============================] - 49s 1s/step - loss: 0.3779 - categorical_accuracy: 0.8978 - val_loss: 1.4935 - val_categorical_accuracy: 0.5810\n",
      "\n",
      "Epoch 00004: val_loss did not improve from 1.11134\n",
      "Epoch 5/40\n",
      "45/45 [==============================] - 49s 1s/step - loss: 0.2203 - categorical_accuracy: 0.9452 - val_loss: 1.3949 - val_categorical_accuracy: 0.5619\n",
      "\n",
      "Epoch 00005: val_loss did not improve from 1.11134\n",
      "Epoch 6/40\n",
      "45/45 [==============================] - 49s 1s/step - loss: 0.1709 - categorical_accuracy: 0.9600 - val_loss: 1.3436 - val_categorical_accuracy: 0.5619\n",
      "\n",
      "Epoch 00006: val_loss did not improve from 1.11134\n",
      "Epoch 7/40\n",
      "45/45 [==============================] - 49s 1s/step - loss: 0.1345 - categorical_accuracy: 0.9704 - val_loss: 1.4174 - val_categorical_accuracy: 0.6000\n",
      "\n",
      "Epoch 00007: val_loss did not improve from 1.11134\n",
      "Epoch 8/40\n",
      "45/45 [==============================] - 49s 1s/step - loss: 0.1045 - categorical_accuracy: 0.9763 - val_loss: 1.2913 - val_categorical_accuracy: 0.6095\n",
      "\n",
      "Epoch 00008: val_loss did not improve from 1.11134\n",
      "Epoch 9/40\n",
      "45/45 [==============================] - 49s 1s/step - loss: 0.0806 - categorical_accuracy: 0.9867 - val_loss: 1.6107 - val_categorical_accuracy: 0.5429\n",
      "\n",
      "Epoch 00009: val_loss did not improve from 1.11134\n",
      "Epoch 10/40\n",
      "45/45 [==============================] - 49s 1s/step - loss: 0.0584 - categorical_accuracy: 0.9956 - val_loss: 1.4662 - val_categorical_accuracy: 0.6095\n",
      "\n",
      "Epoch 00010: val_loss did not improve from 1.11134\n",
      "Epoch 11/40\n",
      "45/45 [==============================] - 49s 1s/step - loss: 0.0463 - categorical_accuracy: 0.9985 - val_loss: 1.3957 - val_categorical_accuracy: 0.6381\n",
      "\n",
      "Epoch 00011: val_loss did not improve from 1.11134\n",
      "Epoch 12/40\n",
      "45/45 [==============================] - 49s 1s/step - loss: 0.0343 - categorical_accuracy: 0.9970 - val_loss: 1.6023 - val_categorical_accuracy: 0.5810\n",
      "\n",
      "Epoch 00012: val_loss did not improve from 1.11134\n",
      "Epoch 13/40\n",
      "45/45 [==============================] - 49s 1s/step - loss: 0.0285 - categorical_accuracy: 0.9985 - val_loss: 1.5940 - val_categorical_accuracy: 0.6476\n",
      "\n",
      "Epoch 00013: val_loss did not improve from 1.11134\n",
      "Epoch 14/40\n",
      "45/45 [==============================] - 49s 1s/step - loss: 0.0207 - categorical_accuracy: 1.0000 - val_loss: 1.5914 - val_categorical_accuracy: 0.6190\n",
      "\n",
      "Epoch 00014: val_loss did not improve from 1.11134\n",
      "Epoch 15/40\n",
      "45/45 [==============================] - 49s 1s/step - loss: 0.0157 - categorical_accuracy: 1.0000 - val_loss: 1.3578 - val_categorical_accuracy: 0.6476\n",
      "\n",
      "Epoch 00015: val_loss did not improve from 1.11134\n",
      "Epoch 16/40\n",
      "45/45 [==============================] - 49s 1s/step - loss: 0.0122 - categorical_accuracy: 1.0000 - val_loss: 1.8839 - val_categorical_accuracy: 0.6476\n",
      "\n",
      "Epoch 00016: val_loss did not improve from 1.11134\n",
      "Epoch 17/40\n",
      "45/45 [==============================] - 49s 1s/step - loss: 0.0106 - categorical_accuracy: 1.0000 - val_loss: 1.9344 - val_categorical_accuracy: 0.5810\n",
      "\n",
      "Epoch 00017: val_loss did not improve from 1.11134\n",
      "Epoch 18/40\n",
      "45/45 [==============================] - 49s 1s/step - loss: 0.0089 - categorical_accuracy: 1.0000 - val_loss: 1.8657 - val_categorical_accuracy: 0.6571\n",
      "\n",
      "Epoch 00018: val_loss did not improve from 1.11134\n",
      "Epoch 19/40\n",
      "45/45 [==============================] - 49s 1s/step - loss: 0.0072 - categorical_accuracy: 1.0000 - val_loss: 1.7039 - val_categorical_accuracy: 0.6571\n",
      "\n",
      "Epoch 00019: val_loss did not improve from 1.11134\n",
      "Epoch 20/40\n",
      "45/45 [==============================] - 49s 1s/step - loss: 0.0064 - categorical_accuracy: 1.0000 - val_loss: 1.8707 - val_categorical_accuracy: 0.6190\n",
      "\n",
      "Epoch 00020: val_loss did not improve from 1.11134\n",
      "Epoch 21/40\n",
      "45/45 [==============================] - 49s 1s/step - loss: 0.0055 - categorical_accuracy: 1.0000 - val_loss: 1.7769 - val_categorical_accuracy: 0.6857\n",
      "\n",
      "Epoch 00021: val_loss did not improve from 1.11134\n",
      "Epoch 22/40\n",
      "45/45 [==============================] - 49s 1s/step - loss: 0.0049 - categorical_accuracy: 1.0000 - val_loss: 1.9977 - val_categorical_accuracy: 0.6381\n",
      "\n",
      "Epoch 00022: val_loss did not improve from 1.11134\n",
      "Epoch 23/40\n",
      "45/45 [==============================] - 49s 1s/step - loss: 0.0043 - categorical_accuracy: 1.0000 - val_loss: 1.9557 - val_categorical_accuracy: 0.6476\n",
      "\n",
      "Epoch 00023: val_loss did not improve from 1.11134\n",
      "Epoch 24/40\n",
      "45/45 [==============================] - 49s 1s/step - loss: 0.0039 - categorical_accuracy: 1.0000 - val_loss: 2.1047 - val_categorical_accuracy: 0.5905\n",
      "\n",
      "Epoch 00024: val_loss did not improve from 1.11134\n",
      "Epoch 25/40\n",
      "45/45 [==============================] - 49s 1s/step - loss: 0.0035 - categorical_accuracy: 1.0000 - val_loss: 1.9072 - val_categorical_accuracy: 0.6476\n",
      "\n",
      "Epoch 00025: val_loss did not improve from 1.11134\n",
      "Epoch 26/40\n",
      "45/45 [==============================] - 49s 1s/step - loss: 0.0031 - categorical_accuracy: 1.0000 - val_loss: 2.1977 - val_categorical_accuracy: 0.6095\n",
      "\n",
      "Epoch 00026: val_loss did not improve from 1.11134\n",
      "Epoch 27/40\n",
      "45/45 [==============================] - 49s 1s/step - loss: 0.0029 - categorical_accuracy: 1.0000 - val_loss: 1.9198 - val_categorical_accuracy: 0.6381\n",
      "\n",
      "Epoch 00027: val_loss did not improve from 1.11134\n",
      "Epoch 28/40\n",
      "45/45 [==============================] - 49s 1s/step - loss: 0.0026 - categorical_accuracy: 1.0000 - val_loss: 1.8868 - val_categorical_accuracy: 0.6476\n",
      "\n",
      "Epoch 00028: val_loss did not improve from 1.11134\n",
      "Epoch 29/40\n",
      "45/45 [==============================] - 49s 1s/step - loss: 0.0024 - categorical_accuracy: 1.0000 - val_loss: 1.8880 - val_categorical_accuracy: 0.6667\n",
      "\n",
      "Epoch 00029: val_loss did not improve from 1.11134\n",
      "Epoch 30/40\n",
      "45/45 [==============================] - 49s 1s/step - loss: 0.0022 - categorical_accuracy: 1.0000 - val_loss: 1.9479 - val_categorical_accuracy: 0.6190\n",
      "\n",
      "Epoch 00030: val_loss did not improve from 1.11134\n",
      "Epoch 31/40\n",
      "45/45 [==============================] - 49s 1s/step - loss: 0.0021 - categorical_accuracy: 1.0000 - val_loss: 1.9332 - val_categorical_accuracy: 0.6667\n",
      "\n",
      "Epoch 00031: val_loss did not improve from 1.11134\n",
      "Epoch 32/40\n",
      "45/45 [==============================] - 50s 1s/step - loss: 0.0019 - categorical_accuracy: 1.0000 - val_loss: 2.0034 - val_categorical_accuracy: 0.6286\n",
      "\n",
      "Epoch 00032: val_loss did not improve from 1.11134\n",
      "Epoch 33/40\n",
      "45/45 [==============================] - 49s 1s/step - loss: 0.0017 - categorical_accuracy: 1.0000 - val_loss: 1.8835 - val_categorical_accuracy: 0.6476\n",
      "\n",
      "Epoch 00033: val_loss did not improve from 1.11134\n",
      "Epoch 34/40\n",
      "45/45 [==============================] - 49s 1s/step - loss: 0.0016 - categorical_accuracy: 1.0000 - val_loss: 1.8628 - val_categorical_accuracy: 0.6381\n",
      "\n",
      "Epoch 00034: val_loss did not improve from 1.11134\n",
      "Epoch 35/40\n",
      "45/45 [==============================] - 49s 1s/step - loss: 0.0015 - categorical_accuracy: 1.0000 - val_loss: 2.0277 - val_categorical_accuracy: 0.6476\n",
      "\n",
      "Epoch 00035: val_loss did not improve from 1.11134\n",
      "Epoch 36/40\n",
      "45/45 [==============================] - 49s 1s/step - loss: 0.0014 - categorical_accuracy: 1.0000 - val_loss: 2.1650 - val_categorical_accuracy: 0.6286\n",
      "\n",
      "Epoch 00036: val_loss did not improve from 1.11134\n",
      "Epoch 37/40\n",
      "45/45 [==============================] - 49s 1s/step - loss: 0.0013 - categorical_accuracy: 1.0000 - val_loss: 2.1831 - val_categorical_accuracy: 0.6381\n",
      "\n",
      "Epoch 00037: val_loss did not improve from 1.11134\n",
      "Epoch 38/40\n",
      "45/45 [==============================] - 49s 1s/step - loss: 0.0012 - categorical_accuracy: 1.0000 - val_loss: 1.7776 - val_categorical_accuracy: 0.6762\n",
      "\n",
      "Epoch 00038: val_loss did not improve from 1.11134\n",
      "Epoch 39/40\n",
      "45/45 [==============================] - 50s 1s/step - loss: 0.0011 - categorical_accuracy: 1.0000 - val_loss: 2.2831 - val_categorical_accuracy: 0.5905\n",
      "\n",
      "Epoch 00039: val_loss did not improve from 1.11134\n",
      "Epoch 40/40\n",
      "45/45 [==============================] - 49s 1s/step - loss: 0.0011 - categorical_accuracy: 1.0000 - val_loss: 2.1754 - val_categorical_accuracy: 0.6190\n",
      "\n",
      "Epoch 00040: val_loss did not improve from 1.11134\n"
     ]
    }
   ],
   "source": [
    "history1=model.fit_generator(train_generator, steps_per_epoch=steps_per_epoch, epochs=num_epochs, verbose=1, \n",
    "                    callbacks=callbacks_list, validation_data=val_generator, \n",
    "                    validation_steps=validation_steps, class_weight=None, initial_epoch=0)"
   ]
  },
  {
   "cell_type": "markdown",
   "metadata": {},
   "source": [
    "## Conv2D RNN model"
   ]
  },
  {
   "cell_type": "code",
   "execution_count": 12,
   "metadata": {},
   "outputs": [
    {
     "name": "stdout",
     "output_type": "stream",
     "text": [
      "22\n"
     ]
    }
   ],
   "source": [
    "# load model\n",
    "import gc\n",
    "print(gc.collect())\n",
    "\n",
    "vision_model=Sequential()\n",
    "vision_model.add(TimeDistributed(Conv2D(32, kernel_size=(3, 3), activation='relu'),input_shape=(len(images), img_width, img_height, 3)))\n",
    "vision_model.add(TimeDistributed(BatchNormalization()))\n",
    "vision_model.add(TimeDistributed(MaxPooling2D(pool_size=(2, 2))))\n",
    "vision_model.add(TimeDistributed(Conv2D(64, kernel_size=(3, 3), activation='relu')))\n",
    "vision_model.add(TimeDistributed(BatchNormalization()))\n",
    "vision_model.add(TimeDistributed(MaxPooling2D(pool_size=(2, 2))))\n",
    "vision_model.add(TimeDistributed(Conv2D(128, kernel_size=(3, 3), activation='relu')))\n",
    "vision_model.add(TimeDistributed(BatchNormalization()))\n",
    "vision_model.add(TimeDistributed(MaxPooling2D(pool_size=(2, 2))))\n",
    "vision_model.add(TimeDistributed(Conv2D(256, kernel_size=(3, 3), activation='relu')))\n",
    "vision_model.add(TimeDistributed(BatchNormalization()))\n",
    "vision_model.add(TimeDistributed(MaxPooling2D(pool_size=(2, 2))))\n",
    "vision_model.add(TimeDistributed(Conv2D(512, kernel_size=(3, 3), activation='relu')))\n",
    "vision_model.add(TimeDistributed(BatchNormalization()))\n",
    "vision_model.add(TimeDistributed(MaxPooling2D(pool_size=(2, 2))))\n",
    "vision_model.add(TimeDistributed(Conv2D(1024, kernel_size=(3, 3), activation='relu')))\n",
    "vision_model.add(TimeDistributed(BatchNormalization()))\n",
    "vision_model.add(TimeDistributed(AveragePooling2D(pool_size=(2, 2))))\n",
    "vision_model.add(TimeDistributed(Flatten()))\n",
    "vision_model.add(GRU(150))\n",
    "vision_model.add(Dense(output_dim=5, activation='softmax'))\n"
   ]
  },
  {
   "cell_type": "code",
   "execution_count": 13,
   "metadata": {},
   "outputs": [
    {
     "name": "stdout",
     "output_type": "stream",
     "text": [
      "Model: \"sequential_2\"\n",
      "_________________________________________________________________\n",
      "Layer (type)                 Output Shape              Param #   \n",
      "=================================================================\n",
      "time_distributed_1 (TimeDist (None, 15, 218, 218, 32)  896       \n",
      "_________________________________________________________________\n",
      "time_distributed_2 (TimeDist (None, 15, 218, 218, 32)  128       \n",
      "_________________________________________________________________\n",
      "time_distributed_3 (TimeDist (None, 15, 109, 109, 32)  0         \n",
      "_________________________________________________________________\n",
      "time_distributed_4 (TimeDist (None, 15, 107, 107, 64)  18496     \n",
      "_________________________________________________________________\n",
      "time_distributed_5 (TimeDist (None, 15, 107, 107, 64)  256       \n",
      "_________________________________________________________________\n",
      "time_distributed_6 (TimeDist (None, 15, 53, 53, 64)    0         \n",
      "_________________________________________________________________\n",
      "time_distributed_7 (TimeDist (None, 15, 51, 51, 128)   73856     \n",
      "_________________________________________________________________\n",
      "time_distributed_8 (TimeDist (None, 15, 51, 51, 128)   512       \n",
      "_________________________________________________________________\n",
      "time_distributed_9 (TimeDist (None, 15, 25, 25, 128)   0         \n",
      "_________________________________________________________________\n",
      "time_distributed_10 (TimeDis (None, 15, 23, 23, 256)   295168    \n",
      "_________________________________________________________________\n",
      "time_distributed_11 (TimeDis (None, 15, 23, 23, 256)   1024      \n",
      "_________________________________________________________________\n",
      "time_distributed_12 (TimeDis (None, 15, 11, 11, 256)   0         \n",
      "_________________________________________________________________\n",
      "time_distributed_13 (TimeDis (None, 15, 9, 9, 512)     1180160   \n",
      "_________________________________________________________________\n",
      "time_distributed_14 (TimeDis (None, 15, 9, 9, 512)     2048      \n",
      "_________________________________________________________________\n",
      "time_distributed_15 (TimeDis (None, 15, 4, 4, 512)     0         \n",
      "_________________________________________________________________\n",
      "time_distributed_16 (TimeDis (None, 15, 2, 2, 1024)    4719616   \n",
      "_________________________________________________________________\n",
      "time_distributed_17 (TimeDis (None, 15, 2, 2, 1024)    4096      \n",
      "_________________________________________________________________\n",
      "time_distributed_18 (TimeDis (None, 15, 1, 1, 1024)    0         \n",
      "_________________________________________________________________\n",
      "time_distributed_19 (TimeDis (None, 15, 1024)          0         \n",
      "_________________________________________________________________\n",
      "gru_1 (GRU)                  (None, 150)               528750    \n",
      "_________________________________________________________________\n",
      "dense_2 (Dense)              (None, 5)                 755       \n",
      "=================================================================\n",
      "Total params: 6,825,761\n",
      "Trainable params: 6,821,729\n",
      "Non-trainable params: 4,032\n",
      "_________________________________________________________________\n",
      "None\n"
     ]
    }
   ],
   "source": [
    "vision_model.compile(optimizer=optimizers.Adam(lr=0.001),loss='categorical_crossentropy',metrics=['categorical_accuracy'])\n",
    "print(vision_model.summary())"
   ]
  },
  {
   "cell_type": "code",
   "execution_count": null,
   "metadata": {},
   "outputs": [],
   "source": [
    "train_generator = generator(train_path, train_doc, batch_size)\n",
    "val_generator = generator(val_path, val_doc, batch_size)"
   ]
  },
  {
   "cell_type": "code",
   "execution_count": 18,
   "metadata": {},
   "outputs": [
    {
     "name": "stdout",
     "output_type": "stream",
     "text": [
      "Source path = Source path =  ./Project_data/train ; batch size = 15\n",
      " Epoch 1/40\n",
      "./Project_data/val ; batch size = 15\n",
      "45/45 [==============================] - 187s 4s/step - loss: 1.5575 - categorical_accuracy: 0.4593 - val_loss: 1.8165 - val_categorical_accuracy: 0.3429\n",
      "\n",
      "Epoch 00001: val_loss improved from inf to 1.81648, saving model to model_init_2020-05-0415_58_24.094028/model-00001-1.55752-0.45926-1.81648-0.34286.h5\n",
      "Epoch 2/40\n",
      "45/45 [==============================] - 73s 2s/step - loss: 0.9328 - categorical_accuracy: 0.6385 - val_loss: 1.7308 - val_categorical_accuracy: 0.4857\n",
      "\n",
      "Epoch 00002: val_loss improved from 1.81648 to 1.73080, saving model to model_init_2020-05-0415_58_24.094028/model-00002-0.93277-0.63852-1.73080-0.48571.h5\n",
      "Epoch 3/40\n",
      "45/45 [==============================] - 72s 2s/step - loss: 0.7199 - categorical_accuracy: 0.7141 - val_loss: 1.0203 - val_categorical_accuracy: 0.6000\n",
      "\n",
      "Epoch 00003: val_loss improved from 1.73080 to 1.02027, saving model to model_init_2020-05-0415_58_24.094028/model-00003-0.71995-0.71407-1.02027-0.60000.h5\n",
      "Epoch 4/40\n",
      "45/45 [==============================] - 72s 2s/step - loss: 0.6013 - categorical_accuracy: 0.7600 - val_loss: 1.1296 - val_categorical_accuracy: 0.5905\n",
      "\n",
      "Epoch 00004: val_loss did not improve from 1.02027\n",
      "Epoch 5/40\n",
      "45/45 [==============================] - 72s 2s/step - loss: 0.3639 - categorical_accuracy: 0.8919 - val_loss: 0.9749 - val_categorical_accuracy: 0.6952\n",
      "\n",
      "Epoch 00005: val_loss improved from 1.02027 to 0.97487, saving model to model_init_2020-05-0415_58_24.094028/model-00005-0.36390-0.89185-0.97487-0.69524.h5\n",
      "Epoch 6/40\n",
      "45/45 [==============================] - 72s 2s/step - loss: 0.2575 - categorical_accuracy: 0.9185 - val_loss: 0.7967 - val_categorical_accuracy: 0.7429\n",
      "\n",
      "Epoch 00006: val_loss improved from 0.97487 to 0.79674, saving model to model_init_2020-05-0415_58_24.094028/model-00006-0.25753-0.91852-0.79674-0.74286.h5\n",
      "Epoch 7/40\n",
      "45/45 [==============================] - 72s 2s/step - loss: 0.2208 - categorical_accuracy: 0.9319 - val_loss: 0.6786 - val_categorical_accuracy: 0.7429\n",
      "\n",
      "Epoch 00007: val_loss improved from 0.79674 to 0.67858, saving model to model_init_2020-05-0415_58_24.094028/model-00007-0.22081-0.93185-0.67858-0.74286.h5\n",
      "Epoch 8/40\n",
      "45/45 [==============================] - 72s 2s/step - loss: 0.2087 - categorical_accuracy: 0.9319 - val_loss: 0.6253 - val_categorical_accuracy: 0.7619\n",
      "\n",
      "Epoch 00008: val_loss improved from 0.67858 to 0.62528, saving model to model_init_2020-05-0415_58_24.094028/model-00008-0.20871-0.93185-0.62528-0.76190.h5\n",
      "Epoch 9/40\n",
      "45/45 [==============================] - 72s 2s/step - loss: 0.1394 - categorical_accuracy: 0.9659 - val_loss: 1.0639 - val_categorical_accuracy: 0.6762\n",
      "\n",
      "Epoch 00009: val_loss did not improve from 0.62528\n",
      "Epoch 10/40\n",
      "45/45 [==============================] - 72s 2s/step - loss: 0.0925 - categorical_accuracy: 0.9778 - val_loss: 0.7506 - val_categorical_accuracy: 0.7429\n",
      "\n",
      "Epoch 00010: val_loss did not improve from 0.62528\n",
      "Epoch 11/40\n",
      "45/45 [==============================] - 72s 2s/step - loss: 0.0773 - categorical_accuracy: 0.9867 - val_loss: 0.6122 - val_categorical_accuracy: 0.7524\n",
      "\n",
      "Epoch 00011: val_loss improved from 0.62528 to 0.61217, saving model to model_init_2020-05-0415_58_24.094028/model-00011-0.07731-0.98667-0.61217-0.75238.h5\n",
      "Epoch 12/40\n",
      "45/45 [==============================] - 72s 2s/step - loss: 0.0696 - categorical_accuracy: 0.9896 - val_loss: 0.6375 - val_categorical_accuracy: 0.7429\n",
      "\n",
      "Epoch 00012: val_loss did not improve from 0.61217\n",
      "Epoch 13/40\n",
      "45/45 [==============================] - 72s 2s/step - loss: 0.0578 - categorical_accuracy: 0.9896 - val_loss: 0.5689 - val_categorical_accuracy: 0.8190\n",
      "\n",
      "Epoch 00013: val_loss improved from 0.61217 to 0.56889, saving model to model_init_2020-05-0415_58_24.094028/model-00013-0.05776-0.98963-0.56889-0.81905.h5\n",
      "Epoch 14/40\n",
      "45/45 [==============================] - 72s 2s/step - loss: 0.0480 - categorical_accuracy: 0.9941 - val_loss: 0.5295 - val_categorical_accuracy: 0.8286\n",
      "\n",
      "Epoch 00014: val_loss improved from 0.56889 to 0.52953, saving model to model_init_2020-05-0415_58_24.094028/model-00014-0.04800-0.99407-0.52953-0.82857.h5\n",
      "Epoch 15/40\n",
      "45/45 [==============================] - 72s 2s/step - loss: 0.0441 - categorical_accuracy: 0.9941 - val_loss: 0.4507 - val_categorical_accuracy: 0.8381\n",
      "\n",
      "Epoch 00015: val_loss improved from 0.52953 to 0.45073, saving model to model_init_2020-05-0415_58_24.094028/model-00015-0.04414-0.99407-0.45073-0.83810.h5\n",
      "Epoch 16/40\n",
      "45/45 [==============================] - 72s 2s/step - loss: 0.0394 - categorical_accuracy: 0.9956 - val_loss: 0.4806 - val_categorical_accuracy: 0.8095\n",
      "\n",
      "Epoch 00016: val_loss did not improve from 0.45073\n",
      "Epoch 17/40\n",
      "45/45 [==============================] - 72s 2s/step - loss: 0.0385 - categorical_accuracy: 0.9956 - val_loss: 0.4732 - val_categorical_accuracy: 0.8000\n",
      "\n",
      "Epoch 00017: val_loss did not improve from 0.45073\n",
      "Epoch 18/40\n",
      "45/45 [==============================] - 72s 2s/step - loss: 0.0333 - categorical_accuracy: 0.9970 - val_loss: 0.6061 - val_categorical_accuracy: 0.7714\n",
      "\n",
      "Epoch 00018: val_loss did not improve from 0.45073\n",
      "Epoch 19/40\n",
      "45/45 [==============================] - 72s 2s/step - loss: 0.0310 - categorical_accuracy: 0.9970 - val_loss: 0.5231 - val_categorical_accuracy: 0.7905\n",
      "\n",
      "Epoch 00019: val_loss did not improve from 0.45073\n",
      "Epoch 20/40\n",
      "45/45 [==============================] - 72s 2s/step - loss: 0.0352 - categorical_accuracy: 0.9926 - val_loss: 0.5360 - val_categorical_accuracy: 0.8381\n",
      "\n",
      "Epoch 00020: val_loss did not improve from 0.45073\n",
      "Epoch 21/40\n",
      "45/45 [==============================] - 72s 2s/step - loss: 0.0243 - categorical_accuracy: 0.9970 - val_loss: 0.3920 - val_categorical_accuracy: 0.8762\n",
      "\n",
      "Epoch 00021: val_loss improved from 0.45073 to 0.39196, saving model to model_init_2020-05-0415_58_24.094028/model-00021-0.02425-0.99704-0.39196-0.87619.h5\n",
      "Epoch 22/40\n",
      "45/45 [==============================] - 72s 2s/step - loss: 0.0249 - categorical_accuracy: 0.9956 - val_loss: 0.5346 - val_categorical_accuracy: 0.7905\n",
      "\n",
      "Epoch 00022: val_loss did not improve from 0.39196\n",
      "Epoch 23/40\n",
      "45/45 [==============================] - 72s 2s/step - loss: 0.0163 - categorical_accuracy: 1.0000 - val_loss: 0.4919 - val_categorical_accuracy: 0.8095\n",
      "\n",
      "Epoch 00023: val_loss did not improve from 0.39196\n",
      "Epoch 24/40\n",
      "45/45 [==============================] - 72s 2s/step - loss: 0.0162 - categorical_accuracy: 1.0000 - val_loss: 0.5603 - val_categorical_accuracy: 0.8000\n",
      "\n",
      "Epoch 00024: val_loss did not improve from 0.39196\n",
      "Epoch 25/40\n",
      "45/45 [==============================] - 72s 2s/step - loss: 0.0114 - categorical_accuracy: 1.0000 - val_loss: 0.5349 - val_categorical_accuracy: 0.8286\n",
      "\n",
      "Epoch 00025: val_loss did not improve from 0.39196\n",
      "Epoch 26/40\n",
      "45/45 [==============================] - 72s 2s/step - loss: 0.0127 - categorical_accuracy: 1.0000 - val_loss: 0.4427 - val_categorical_accuracy: 0.8286\n",
      "\n",
      "Epoch 00026: val_loss did not improve from 0.39196\n",
      "Epoch 27/40\n",
      "45/45 [==============================] - 72s 2s/step - loss: 0.0247 - categorical_accuracy: 0.9956 - val_loss: 1.2899 - val_categorical_accuracy: 0.6571\n",
      "\n",
      "Epoch 00027: val_loss did not improve from 0.39196\n",
      "Epoch 28/40\n",
      "45/45 [==============================] - 72s 2s/step - loss: 0.0414 - categorical_accuracy: 0.9896 - val_loss: 0.9476 - val_categorical_accuracy: 0.7429\n",
      "\n",
      "Epoch 00028: val_loss did not improve from 0.39196\n",
      "Epoch 29/40\n",
      "45/45 [==============================] - 72s 2s/step - loss: 0.0170 - categorical_accuracy: 0.9985 - val_loss: 0.6149 - val_categorical_accuracy: 0.7714\n",
      "\n",
      "Epoch 00029: val_loss did not improve from 0.39196\n",
      "Epoch 30/40\n",
      "45/45 [==============================] - 72s 2s/step - loss: 0.0137 - categorical_accuracy: 1.0000 - val_loss: 0.4997 - val_categorical_accuracy: 0.8476\n",
      "\n",
      "Epoch 00030: val_loss did not improve from 0.39196\n",
      "Epoch 31/40\n",
      "45/45 [==============================] - 72s 2s/step - loss: 0.0135 - categorical_accuracy: 0.9985 - val_loss: 0.8122 - val_categorical_accuracy: 0.7810\n",
      "\n",
      "Epoch 00031: val_loss did not improve from 0.39196\n",
      "Epoch 32/40\n",
      "45/45 [==============================] - 72s 2s/step - loss: 0.0175 - categorical_accuracy: 0.9941 - val_loss: 0.6157 - val_categorical_accuracy: 0.7905\n",
      "\n",
      "Epoch 00032: val_loss did not improve from 0.39196\n",
      "Epoch 33/40\n",
      "45/45 [==============================] - 72s 2s/step - loss: 0.0119 - categorical_accuracy: 0.9970 - val_loss: 0.7933 - val_categorical_accuracy: 0.7905\n",
      "\n",
      "Epoch 00033: val_loss did not improve from 0.39196\n",
      "Epoch 34/40\n",
      "45/45 [==============================] - 72s 2s/step - loss: 0.0075 - categorical_accuracy: 0.9985 - val_loss: 0.6734 - val_categorical_accuracy: 0.7905\n",
      "\n",
      "Epoch 00034: val_loss did not improve from 0.39196\n",
      "Epoch 35/40\n",
      "45/45 [==============================] - 72s 2s/step - loss: 0.0067 - categorical_accuracy: 1.0000 - val_loss: 0.5746 - val_categorical_accuracy: 0.8095\n",
      "\n",
      "Epoch 00035: val_loss did not improve from 0.39196\n",
      "Epoch 36/40\n",
      "45/45 [==============================] - 72s 2s/step - loss: 0.0045 - categorical_accuracy: 1.0000 - val_loss: 0.4839 - val_categorical_accuracy: 0.8381\n",
      "\n",
      "Epoch 00036: val_loss did not improve from 0.39196\n",
      "Epoch 37/40\n",
      "45/45 [==============================] - 72s 2s/step - loss: 0.0052 - categorical_accuracy: 1.0000 - val_loss: 0.5557 - val_categorical_accuracy: 0.8571\n",
      "\n",
      "Epoch 00037: val_loss did not improve from 0.39196\n",
      "Epoch 38/40\n",
      "45/45 [==============================] - 72s 2s/step - loss: 0.0070 - categorical_accuracy: 0.9985 - val_loss: 0.4879 - val_categorical_accuracy: 0.8381\n",
      "\n",
      "Epoch 00038: val_loss did not improve from 0.39196\n",
      "Epoch 39/40\n",
      "45/45 [==============================] - 72s 2s/step - loss: 0.0251 - categorical_accuracy: 0.9926 - val_loss: 0.6177 - val_categorical_accuracy: 0.8286\n",
      "\n",
      "Epoch 00039: val_loss did not improve from 0.39196\n",
      "Epoch 40/40\n",
      "45/45 [==============================] - 72s 2s/step - loss: 0.0246 - categorical_accuracy: 0.9941 - val_loss: 0.8358 - val_categorical_accuracy: 0.7238\n",
      "\n",
      "Epoch 00040: val_loss did not improve from 0.39196\n"
     ]
    }
   ],
   "source": [
    "history=vision_model.fit_generator(train_generator, steps_per_epoch=steps_per_epoch, epochs=num_epochs, verbose=1, \n",
    "                    callbacks=callbacks_list, validation_data=val_generator, \n",
    "                    validation_steps=validation_steps, initial_epoch=0)"
   ]
  },
  {
   "cell_type": "code",
   "execution_count": null,
   "metadata": {},
   "outputs": [],
   "source": []
  }
 ],
 "metadata": {
  "kernelspec": {
   "display_name": "Python 3",
   "language": "python",
   "name": "python3"
  },
  "language_info": {
   "codemirror_mode": {
    "name": "ipython",
    "version": 3
   },
   "file_extension": ".py",
   "mimetype": "text/x-python",
   "name": "python",
   "nbconvert_exporter": "python",
   "pygments_lexer": "ipython3",
   "version": "3.7.4"
  }
 },
 "nbformat": 4,
 "nbformat_minor": 4
}
